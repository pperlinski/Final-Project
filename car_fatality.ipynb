{
 "cells": [
  {
   "cell_type": "code",
   "execution_count": null,
   "id": "7d59c1ca",
   "metadata": {},
   "outputs": [],
   "source": [
    "import warnings\n",
    "warnings.filterwarnings('ignore')"
   ]
  },
  {
   "cell_type": "code",
   "execution_count": null,
   "id": "ef44cbd5",
   "metadata": {},
   "outputs": [],
   "source": [
    "import numpy as np\n",
    "import pandas as pd\n",
    "from pathlib import Path\n",
    "from collections import Counter"
   ]
  },
  {
   "cell_type": "code",
   "execution_count": null,
   "id": "c91f9a9a",
   "metadata": {},
   "outputs": [],
   "source": [
    "from sklearn.metrics import balanced_accuracy_score\n",
    "from sklearn.metrics import confusion_matrix\n",
    "from imblearn.metrics import classification_report_imbalanced\n"
   ]
  },
  {
   "cell_type": "code",
   "execution_count": null,
   "id": "fb6db752",
   "metadata": {},
   "outputs": [],
   "source": [
    "Read the CSV and Perform Basic Data Cleaning"
   ]
  },
  {
   "cell_type": "code",
   "execution_count": null,
   "id": "aaf46abe",
   "metadata": {},
   "outputs": [],
   "source": [
    "# create a dictionary of states."
   ]
  },
  {
   "cell_type": "code",
   "execution_count": null,
   "id": "7f1416b9",
   "metadata": {},
   "outputs": [],
   "source": [
    "# Assign each states a numeric value.\n",
    "car_fatality_df[\"state_num\"] = car_fatality_df[\"state\"].apply(lambda x: state_num[x])"
   ]
  },
  {
   "cell_type": "code",
   "execution_count": null,
   "id": "779461b3",
   "metadata": {},
   "outputs": [],
   "source": [
    "# Transform the state column into numbers\n",
    "label_encoder = LabelEncoder()\n",
    "car_fatality_df[\"state_le\"] = label_encoder.fit_transform(car_fatality_df[\"state\"])\n",
    "car_fatality_df.head()"
   ]
  },
  {
   "cell_type": "code",
   "execution_count": null,
   "id": "c92d679f",
   "metadata": {},
   "outputs": [],
   "source": [
    "# Load the data\n",
    "\n",
    "# Drop the null columns where all values are null\n",
    "\n",
    "# Drop the null rows"
   ]
  },
  {
   "cell_type": "code",
   "execution_count": null,
   "id": "bc10788d",
   "metadata": {},
   "outputs": [],
   "source": [
    "Split the Data into Training and Testing"
   ]
  },
  {
   "cell_type": "code",
   "execution_count": null,
   "id": "350330ae",
   "metadata": {},
   "outputs": [],
   "source": [
    "# Create our features\n",
    "\n",
    "# Create our target"
   ]
  },
  {
   "cell_type": "code",
   "execution_count": null,
   "id": "90a23b81",
   "metadata": {},
   "outputs": [],
   "source": [
    "X.describe()"
   ]
  },
  {
   "cell_type": "code",
   "execution_count": null,
   "id": "bf47248e",
   "metadata": {},
   "outputs": [],
   "source": [
    "# Check the balance of our target values"
   ]
  },
  {
   "cell_type": "code",
   "execution_count": null,
   "id": "dbe3c5cf",
   "metadata": {},
   "outputs": [],
   "source": [
    "from sklearn.model_selection import train_test_split"
   ]
  },
  {
   "cell_type": "code",
   "execution_count": null,
   "id": "3162a92b",
   "metadata": {},
   "outputs": [],
   "source": [
    "Balanced Random Forest Classifier"
   ]
  },
  {
   "cell_type": "code",
   "execution_count": null,
   "id": "6236b89f",
   "metadata": {},
   "outputs": [],
   "source": [
    "# Resample the training data with the BalancedRandomForestClassifier"
   ]
  },
  {
   "cell_type": "code",
   "execution_count": null,
   "id": "aace25e5",
   "metadata": {},
   "outputs": [],
   "source": [
    "# Calculated the balanced accuracy score"
   ]
  },
  {
   "cell_type": "code",
   "execution_count": null,
   "id": "8d202fd1",
   "metadata": {},
   "outputs": [],
   "source": [
    "# Display the confusion matrix"
   ]
  },
  {
   "cell_type": "code",
   "execution_count": null,
   "id": "a21493b4",
   "metadata": {},
   "outputs": [],
   "source": [
    "# Print the imbalanced classification report"
   ]
  },
  {
   "cell_type": "code",
   "execution_count": null,
   "id": "01cd3546",
   "metadata": {},
   "outputs": [],
   "source": [
    "# List the features sorted in descending order by feature importance"
   ]
  },
  {
   "cell_type": "code",
   "execution_count": null,
   "id": "0ea61874",
   "metadata": {},
   "outputs": [],
   "source": [
    "Easy Ensemble AdaBoost Classifier"
   ]
  },
  {
   "cell_type": "code",
   "execution_count": null,
   "id": "2f9d65c0",
   "metadata": {},
   "outputs": [],
   "source": [
    "# Train the EasyEnsembleClassifier"
   ]
  },
  {
   "cell_type": "code",
   "execution_count": null,
   "id": "30969265",
   "metadata": {},
   "outputs": [],
   "source": [
    "# Calculated the balanced accuracy score"
   ]
  },
  {
   "cell_type": "code",
   "execution_count": null,
   "id": "9c4e8ca3",
   "metadata": {},
   "outputs": [],
   "source": [
    "# Display the confusion matrix"
   ]
  },
  {
   "cell_type": "code",
   "execution_count": null,
   "id": "993c2084",
   "metadata": {},
   "outputs": [],
   "source": [
    "# Print the imbalanced classification report"
   ]
  }
 ],
 "metadata": {
  "kernelspec": {
   "display_name": "mlenv",
   "language": "python",
   "name": "mlenv"
  }
 },
 "nbformat": 4,
 "nbformat_minor": 5
}
