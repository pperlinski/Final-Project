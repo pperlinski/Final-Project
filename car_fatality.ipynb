{
 "cells": [
  {
   "cell_type": "code",
   "execution_count": 16,
   "id": "7d59c1ca",
   "metadata": {},
   "outputs": [],
   "source": [
    "import warnings\n",
    "warnings.filterwarnings('ignore')"
   ]
  },
  {
   "cell_type": "code",
   "execution_count": 17,
   "id": "ef44cbd5",
   "metadata": {},
   "outputs": [],
   "source": [
    "import numpy as np\n",
    "import pandas as pd\n",
    "from pathlib import Path\n",
    "from collections import Counter"
   ]
  },
  {
   "cell_type": "code",
   "execution_count": 18,
   "id": "c91f9a9a",
   "metadata": {},
   "outputs": [],
   "source": [
    "from sklearn.metrics import balanced_accuracy_score\n",
    "from sklearn.metrics import confusion_matrix\n",
    "from imblearn.metrics import classification_report_imbalanced\n"
   ]
  },
  {
   "cell_type": "code",
   "execution_count": 19,
   "id": "fb6db752",
   "metadata": {},
   "outputs": [
    {
     "data": {
      "text/html": [
       "<div>\n",
       "<style scoped>\n",
       "    .dataframe tbody tr th:only-of-type {\n",
       "        vertical-align: middle;\n",
       "    }\n",
       "\n",
       "    .dataframe tbody tr th {\n",
       "        vertical-align: top;\n",
       "    }\n",
       "\n",
       "    .dataframe thead th {\n",
       "        text-align: right;\n",
       "    }\n",
       "</style>\n",
       "<table border=\"1\" class=\"dataframe\">\n",
       "  <thead>\n",
       "    <tr style=\"text-align: right;\">\n",
       "      <th></th>\n",
       "      <th>Year</th>\n",
       "      <th>State</th>\n",
       "      <th>Total Fatalities</th>\n",
       "      <th>Alcohol-Impaired Driving Fatalities (BAC</th>\n",
       "      <th>Unnamed: 4</th>\n",
       "      <th>Unnamed: 5</th>\n",
       "    </tr>\n",
       "  </thead>\n",
       "  <tbody>\n",
       "    <tr>\n",
       "      <th>0</th>\n",
       "      <td>2016</td>\n",
       "      <td>Alabama</td>\n",
       "      <td>1083</td>\n",
       "      <td>298</td>\n",
       "      <td>27</td>\n",
       "      <td>0.43</td>\n",
       "    </tr>\n",
       "    <tr>\n",
       "      <th>1</th>\n",
       "      <td>2017</td>\n",
       "      <td>Alabama</td>\n",
       "      <td>948</td>\n",
       "      <td>265</td>\n",
       "      <td>28</td>\n",
       "      <td>0.37</td>\n",
       "    </tr>\n",
       "    <tr>\n",
       "      <th>2</th>\n",
       "      <td>2018</td>\n",
       "      <td>Alabama</td>\n",
       "      <td>953</td>\n",
       "      <td>249</td>\n",
       "      <td>26</td>\n",
       "      <td>0.35</td>\n",
       "    </tr>\n",
       "    <tr>\n",
       "      <th>3</th>\n",
       "      <td>2019</td>\n",
       "      <td>Alabama</td>\n",
       "      <td>930</td>\n",
       "      <td>272</td>\n",
       "      <td>29</td>\n",
       "      <td>0.38</td>\n",
       "    </tr>\n",
       "    <tr>\n",
       "      <th>4</th>\n",
       "      <td>2020</td>\n",
       "      <td>Alabama</td>\n",
       "      <td>934</td>\n",
       "      <td>236</td>\n",
       "      <td>25</td>\n",
       "      <td>0.35</td>\n",
       "    </tr>\n",
       "  </tbody>\n",
       "</table>\n",
       "</div>"
      ],
      "text/plain": [
       "   Year    State  Total Fatalities  Alcohol-Impaired Driving Fatalities (BAC  \\\n",
       "0  2016  Alabama              1083                                       298   \n",
       "1  2017  Alabama               948                                       265   \n",
       "2  2018  Alabama               953                                       249   \n",
       "3  2019  Alabama               930                                       272   \n",
       "4  2020  Alabama               934                                       236   \n",
       "\n",
       "   Unnamed: 4  Unnamed: 5  \n",
       "0          27        0.43  \n",
       "1          28        0.37  \n",
       "2          26        0.35  \n",
       "3          29        0.38  \n",
       "4          25        0.35  "
      ]
     },
     "execution_count": 19,
     "metadata": {},
     "output_type": "execute_result"
    }
   ],
   "source": [
    "# Read the CSV and Perform Basic Data Cleaning\n",
    "df1=pd.read_csv(\"STSI Combined .csv\")\n",
    "df2=pd.read_csv(\"Table 1 Combined.csv\")\n",
    "df1.head()"
   ]
  },
  {
   "cell_type": "code",
   "execution_count": 20,
   "id": "74198d6e",
   "metadata": {},
   "outputs": [
    {
     "data": {
      "text/html": [
       "<div>\n",
       "<style scoped>\n",
       "    .dataframe tbody tr th:only-of-type {\n",
       "        vertical-align: middle;\n",
       "    }\n",
       "\n",
       "    .dataframe tbody tr th {\n",
       "        vertical-align: top;\n",
       "    }\n",
       "\n",
       "    .dataframe thead th {\n",
       "        text-align: right;\n",
       "    }\n",
       "</style>\n",
       "<table border=\"1\" class=\"dataframe\">\n",
       "  <thead>\n",
       "    <tr style=\"text-align: right;\">\n",
       "      <th></th>\n",
       "      <th>Year</th>\n",
       "      <th>State</th>\n",
       "      <th>Fatalities</th>\n",
       "      <th>Total Vehicle Miles Traveled (Millions)</th>\n",
       "      <th>Fatalities Per 100 Million Vehicle Miles Traveled</th>\n",
       "      <th>Total Population</th>\n",
       "      <th>Fatalities Per 100,000 Population</th>\n",
       "    </tr>\n",
       "  </thead>\n",
       "  <tbody>\n",
       "    <tr>\n",
       "      <th>0</th>\n",
       "      <td>2020</td>\n",
       "      <td>Alabama</td>\n",
       "      <td>934</td>\n",
       "      <td>67921</td>\n",
       "      <td>1.38</td>\n",
       "      <td>4921532</td>\n",
       "      <td>18.98</td>\n",
       "    </tr>\n",
       "    <tr>\n",
       "      <th>1</th>\n",
       "      <td>2019</td>\n",
       "      <td>Alabama</td>\n",
       "      <td>930</td>\n",
       "      <td>71735</td>\n",
       "      <td>1.30</td>\n",
       "      <td>4907965</td>\n",
       "      <td>18.95</td>\n",
       "    </tr>\n",
       "    <tr>\n",
       "      <th>2</th>\n",
       "      <td>2018</td>\n",
       "      <td>Alabama</td>\n",
       "      <td>953</td>\n",
       "      <td>71167</td>\n",
       "      <td>1.34</td>\n",
       "      <td>4891628</td>\n",
       "      <td>19.48</td>\n",
       "    </tr>\n",
       "    <tr>\n",
       "      <th>3</th>\n",
       "      <td>2017</td>\n",
       "      <td>Alabama</td>\n",
       "      <td>948</td>\n",
       "      <td>70677</td>\n",
       "      <td>1.34</td>\n",
       "      <td>4877989</td>\n",
       "      <td>19.43</td>\n",
       "    </tr>\n",
       "    <tr>\n",
       "      <th>4</th>\n",
       "      <td>2016</td>\n",
       "      <td>Alabama</td>\n",
       "      <td>1083</td>\n",
       "      <td>69227</td>\n",
       "      <td>1.56</td>\n",
       "      <td>4866824</td>\n",
       "      <td>22.25</td>\n",
       "    </tr>\n",
       "  </tbody>\n",
       "</table>\n",
       "</div>"
      ],
      "text/plain": [
       "   Year    State  Fatalities  Total Vehicle Miles Traveled (Millions)  \\\n",
       "0  2020  Alabama         934                                    67921   \n",
       "1  2019  Alabama         930                                    71735   \n",
       "2  2018  Alabama         953                                    71167   \n",
       "3  2017  Alabama         948                                    70677   \n",
       "4  2016  Alabama        1083                                    69227   \n",
       "\n",
       "   Fatalities Per 100 Million Vehicle Miles Traveled  Total Population  \\\n",
       "0                                               1.38           4921532   \n",
       "1                                               1.30           4907965   \n",
       "2                                               1.34           4891628   \n",
       "3                                               1.34           4877989   \n",
       "4                                               1.56           4866824   \n",
       "\n",
       "   Fatalities Per 100,000 Population  \n",
       "0                              18.98  \n",
       "1                              18.95  \n",
       "2                              19.48  \n",
       "3                              19.43  \n",
       "4                              22.25  "
      ]
     },
     "execution_count": 20,
     "metadata": {},
     "output_type": "execute_result"
    }
   ],
   "source": [
    "df2.head()"
   ]
  },
  {
   "cell_type": "code",
   "execution_count": 21,
   "id": "aaf46abe",
   "metadata": {},
   "outputs": [],
   "source": [
    "# create a dictionary of states.\n",
    "clean_df=df2.merge(df1, on=[\"Year\", \"State\"], how=\"left\")"
   ]
  },
  {
   "cell_type": "code",
   "execution_count": 22,
   "id": "d222ecbe",
   "metadata": {},
   "outputs": [
    {
     "data": {
      "text/html": [
       "<div>\n",
       "<style scoped>\n",
       "    .dataframe tbody tr th:only-of-type {\n",
       "        vertical-align: middle;\n",
       "    }\n",
       "\n",
       "    .dataframe tbody tr th {\n",
       "        vertical-align: top;\n",
       "    }\n",
       "\n",
       "    .dataframe thead th {\n",
       "        text-align: right;\n",
       "    }\n",
       "</style>\n",
       "<table border=\"1\" class=\"dataframe\">\n",
       "  <thead>\n",
       "    <tr style=\"text-align: right;\">\n",
       "      <th></th>\n",
       "      <th>Year</th>\n",
       "      <th>State</th>\n",
       "      <th>Fatalities</th>\n",
       "      <th>Total Vehicle Miles Traveled (Millions)</th>\n",
       "      <th>Fatalities Per 100 Million Vehicle Miles Traveled</th>\n",
       "      <th>Total Population</th>\n",
       "      <th>Fatalities Per 100,000 Population</th>\n",
       "      <th>Total Fatalities</th>\n",
       "      <th>Alcohol-Impaired Driving Fatalities (BAC</th>\n",
       "      <th>Unnamed: 4</th>\n",
       "      <th>Unnamed: 5</th>\n",
       "      <th>Number Alcohol-Impaired Fatalities</th>\n",
       "      <th>Percent Alcohol-Impaired Fatalities</th>\n",
       "      <th>Alcohol-Impaired Fatalities Per 100 Mill VMT</th>\n",
       "    </tr>\n",
       "  </thead>\n",
       "  <tbody>\n",
       "    <tr>\n",
       "      <th>0</th>\n",
       "      <td>2020</td>\n",
       "      <td>Alabama</td>\n",
       "      <td>934</td>\n",
       "      <td>67921</td>\n",
       "      <td>1.38</td>\n",
       "      <td>4921532</td>\n",
       "      <td>18.98</td>\n",
       "      <td>934</td>\n",
       "      <td>236</td>\n",
       "      <td>25</td>\n",
       "      <td>0.35</td>\n",
       "      <td>236</td>\n",
       "      <td>25</td>\n",
       "      <td>0.35</td>\n",
       "    </tr>\n",
       "    <tr>\n",
       "      <th>1</th>\n",
       "      <td>2019</td>\n",
       "      <td>Alabama</td>\n",
       "      <td>930</td>\n",
       "      <td>71735</td>\n",
       "      <td>1.30</td>\n",
       "      <td>4907965</td>\n",
       "      <td>18.95</td>\n",
       "      <td>930</td>\n",
       "      <td>272</td>\n",
       "      <td>29</td>\n",
       "      <td>0.38</td>\n",
       "      <td>272</td>\n",
       "      <td>29</td>\n",
       "      <td>0.38</td>\n",
       "    </tr>\n",
       "    <tr>\n",
       "      <th>2</th>\n",
       "      <td>2018</td>\n",
       "      <td>Alabama</td>\n",
       "      <td>953</td>\n",
       "      <td>71167</td>\n",
       "      <td>1.34</td>\n",
       "      <td>4891628</td>\n",
       "      <td>19.48</td>\n",
       "      <td>953</td>\n",
       "      <td>249</td>\n",
       "      <td>26</td>\n",
       "      <td>0.35</td>\n",
       "      <td>249</td>\n",
       "      <td>26</td>\n",
       "      <td>0.35</td>\n",
       "    </tr>\n",
       "    <tr>\n",
       "      <th>3</th>\n",
       "      <td>2017</td>\n",
       "      <td>Alabama</td>\n",
       "      <td>948</td>\n",
       "      <td>70677</td>\n",
       "      <td>1.34</td>\n",
       "      <td>4877989</td>\n",
       "      <td>19.43</td>\n",
       "      <td>948</td>\n",
       "      <td>265</td>\n",
       "      <td>28</td>\n",
       "      <td>0.37</td>\n",
       "      <td>265</td>\n",
       "      <td>28</td>\n",
       "      <td>0.37</td>\n",
       "    </tr>\n",
       "    <tr>\n",
       "      <th>4</th>\n",
       "      <td>2016</td>\n",
       "      <td>Alabama</td>\n",
       "      <td>1083</td>\n",
       "      <td>69227</td>\n",
       "      <td>1.56</td>\n",
       "      <td>4866824</td>\n",
       "      <td>22.25</td>\n",
       "      <td>1083</td>\n",
       "      <td>298</td>\n",
       "      <td>27</td>\n",
       "      <td>0.43</td>\n",
       "      <td>298</td>\n",
       "      <td>27</td>\n",
       "      <td>0.43</td>\n",
       "    </tr>\n",
       "  </tbody>\n",
       "</table>\n",
       "</div>"
      ],
      "text/plain": [
       "   Year    State  Fatalities  Total Vehicle Miles Traveled (Millions)  \\\n",
       "0  2020  Alabama         934                                    67921   \n",
       "1  2019  Alabama         930                                    71735   \n",
       "2  2018  Alabama         953                                    71167   \n",
       "3  2017  Alabama         948                                    70677   \n",
       "4  2016  Alabama        1083                                    69227   \n",
       "\n",
       "   Fatalities Per 100 Million Vehicle Miles Traveled  Total Population  \\\n",
       "0                                               1.38           4921532   \n",
       "1                                               1.30           4907965   \n",
       "2                                               1.34           4891628   \n",
       "3                                               1.34           4877989   \n",
       "4                                               1.56           4866824   \n",
       "\n",
       "   Fatalities Per 100,000 Population  Total Fatalities  \\\n",
       "0                              18.98               934   \n",
       "1                              18.95               930   \n",
       "2                              19.48               953   \n",
       "3                              19.43               948   \n",
       "4                              22.25              1083   \n",
       "\n",
       "   Alcohol-Impaired Driving Fatalities (BAC  Unnamed: 4  Unnamed: 5  \\\n",
       "0                                       236          25        0.35   \n",
       "1                                       272          29        0.38   \n",
       "2                                       249          26        0.35   \n",
       "3                                       265          28        0.37   \n",
       "4                                       298          27        0.43   \n",
       "\n",
       "   Number Alcohol-Impaired Fatalities  Percent Alcohol-Impaired Fatalities  \\\n",
       "0                                 236                                   25   \n",
       "1                                 272                                   29   \n",
       "2                                 249                                   26   \n",
       "3                                 265                                   28   \n",
       "4                                 298                                   27   \n",
       "\n",
       "   Alcohol-Impaired Fatalities Per 100 Mill VMT  \n",
       "0                                          0.35  \n",
       "1                                          0.38  \n",
       "2                                          0.35  \n",
       "3                                          0.37  \n",
       "4                                          0.43  "
      ]
     },
     "execution_count": 22,
     "metadata": {},
     "output_type": "execute_result"
    }
   ],
   "source": [
    "clean_df['Number Alcohol-Impaired Fatalities']=clean_df['Alcohol-Impaired Driving Fatalities (BAC'] \n",
    "clean_df['Percent Alcohol-Impaired Fatalities']=clean_df['Unnamed: 4'] \n",
    "clean_df['Alcohol-Impaired Fatalities Per 100 Mill VMT']=clean_df['Unnamed: 5']\n",
    "clean_df.head() "
   ]
  },
  {
   "cell_type": "code",
   "execution_count": 23,
   "id": "b0d82d84",
   "metadata": {},
   "outputs": [
    {
     "data": {
      "text/plain": [
       "Index(['Year', 'State', 'Fatalities',\n",
       "       'Total Vehicle Miles Traveled (Millions)',\n",
       "       'Fatalities Per 100 Million Vehicle Miles Traveled', 'Total Population',\n",
       "       'Fatalities Per 100,000 Population', 'Total Fatalities',\n",
       "       'Alcohol-Impaired Driving Fatalities (BAC', 'Unnamed: 4', 'Unnamed: 5',\n",
       "       'Number Alcohol-Impaired Fatalities',\n",
       "       'Percent Alcohol-Impaired Fatalities',\n",
       "       'Alcohol-Impaired Fatalities Per 100 Mill VMT'],\n",
       "      dtype='object')"
      ]
     },
     "execution_count": 23,
     "metadata": {},
     "output_type": "execute_result"
    }
   ],
   "source": [
    "clean_df.columns"
   ]
  },
  {
   "cell_type": "code",
   "execution_count": 24,
   "id": "6311cb12",
   "metadata": {},
   "outputs": [
    {
     "data": {
      "text/html": [
       "<div>\n",
       "<style scoped>\n",
       "    .dataframe tbody tr th:only-of-type {\n",
       "        vertical-align: middle;\n",
       "    }\n",
       "\n",
       "    .dataframe tbody tr th {\n",
       "        vertical-align: top;\n",
       "    }\n",
       "\n",
       "    .dataframe thead th {\n",
       "        text-align: right;\n",
       "    }\n",
       "</style>\n",
       "<table border=\"1\" class=\"dataframe\">\n",
       "  <thead>\n",
       "    <tr style=\"text-align: right;\">\n",
       "      <th></th>\n",
       "      <th>Year</th>\n",
       "      <th>State</th>\n",
       "      <th>Total Population</th>\n",
       "      <th>Total Fatalities</th>\n",
       "      <th>Fatalities Per 100,000 Population</th>\n",
       "      <th>Total Vehicle Miles Traveled (Millions)</th>\n",
       "      <th>Fatalities Per 100 Million Vehicle Miles Traveled</th>\n",
       "      <th>Number Alcohol-Impaired Fatalities</th>\n",
       "      <th>Percent Alcohol-Impaired Fatalities</th>\n",
       "      <th>Alcohol-Impaired Fatalities Per 100 Mill VMT</th>\n",
       "    </tr>\n",
       "  </thead>\n",
       "  <tbody>\n",
       "    <tr>\n",
       "      <th>0</th>\n",
       "      <td>2020</td>\n",
       "      <td>Alabama</td>\n",
       "      <td>4921532</td>\n",
       "      <td>934</td>\n",
       "      <td>18.98</td>\n",
       "      <td>67921</td>\n",
       "      <td>1.38</td>\n",
       "      <td>236</td>\n",
       "      <td>25</td>\n",
       "      <td>0.35</td>\n",
       "    </tr>\n",
       "    <tr>\n",
       "      <th>1</th>\n",
       "      <td>2019</td>\n",
       "      <td>Alabama</td>\n",
       "      <td>4907965</td>\n",
       "      <td>930</td>\n",
       "      <td>18.95</td>\n",
       "      <td>71735</td>\n",
       "      <td>1.30</td>\n",
       "      <td>272</td>\n",
       "      <td>29</td>\n",
       "      <td>0.38</td>\n",
       "    </tr>\n",
       "    <tr>\n",
       "      <th>2</th>\n",
       "      <td>2018</td>\n",
       "      <td>Alabama</td>\n",
       "      <td>4891628</td>\n",
       "      <td>953</td>\n",
       "      <td>19.48</td>\n",
       "      <td>71167</td>\n",
       "      <td>1.34</td>\n",
       "      <td>249</td>\n",
       "      <td>26</td>\n",
       "      <td>0.35</td>\n",
       "    </tr>\n",
       "    <tr>\n",
       "      <th>3</th>\n",
       "      <td>2017</td>\n",
       "      <td>Alabama</td>\n",
       "      <td>4877989</td>\n",
       "      <td>948</td>\n",
       "      <td>19.43</td>\n",
       "      <td>70677</td>\n",
       "      <td>1.34</td>\n",
       "      <td>265</td>\n",
       "      <td>28</td>\n",
       "      <td>0.37</td>\n",
       "    </tr>\n",
       "    <tr>\n",
       "      <th>4</th>\n",
       "      <td>2016</td>\n",
       "      <td>Alabama</td>\n",
       "      <td>4866824</td>\n",
       "      <td>1083</td>\n",
       "      <td>22.25</td>\n",
       "      <td>69227</td>\n",
       "      <td>1.56</td>\n",
       "      <td>298</td>\n",
       "      <td>27</td>\n",
       "      <td>0.43</td>\n",
       "    </tr>\n",
       "  </tbody>\n",
       "</table>\n",
       "</div>"
      ],
      "text/plain": [
       "   Year    State  Total Population  Total Fatalities  \\\n",
       "0  2020  Alabama           4921532               934   \n",
       "1  2019  Alabama           4907965               930   \n",
       "2  2018  Alabama           4891628               953   \n",
       "3  2017  Alabama           4877989               948   \n",
       "4  2016  Alabama           4866824              1083   \n",
       "\n",
       "   Fatalities Per 100,000 Population  Total Vehicle Miles Traveled (Millions)  \\\n",
       "0                              18.98                                    67921   \n",
       "1                              18.95                                    71735   \n",
       "2                              19.48                                    71167   \n",
       "3                              19.43                                    70677   \n",
       "4                              22.25                                    69227   \n",
       "\n",
       "   Fatalities Per 100 Million Vehicle Miles Traveled  \\\n",
       "0                                               1.38   \n",
       "1                                               1.30   \n",
       "2                                               1.34   \n",
       "3                                               1.34   \n",
       "4                                               1.56   \n",
       "\n",
       "   Number Alcohol-Impaired Fatalities  Percent Alcohol-Impaired Fatalities  \\\n",
       "0                                 236                                   25   \n",
       "1                                 272                                   29   \n",
       "2                                 249                                   26   \n",
       "3                                 265                                   28   \n",
       "4                                 298                                   27   \n",
       "\n",
       "   Alcohol-Impaired Fatalities Per 100 Mill VMT  \n",
       "0                                          0.35  \n",
       "1                                          0.38  \n",
       "2                                          0.35  \n",
       "3                                          0.37  \n",
       "4                                          0.43  "
      ]
     },
     "execution_count": 24,
     "metadata": {},
     "output_type": "execute_result"
    }
   ],
   "source": [
    "car_fatality_df=clean_df[[\"Year\", \"State\", \"Total Population\",\"Total Fatalities\", \"Fatalities Per 100,000 Population\", \"Total Vehicle Miles Traveled (Millions)\", \"Fatalities Per 100 Million Vehicle Miles Traveled\", \"Number Alcohol-Impaired Fatalities\", \"Percent Alcohol-Impaired Fatalities\", \"Alcohol-Impaired Fatalities Per 100 Mill VMT\"]]\n",
    "car_fatality_df.head()"
   ]
  },
  {
   "cell_type": "code",
   "execution_count": 25,
   "id": "250de3b9",
   "metadata": {},
   "outputs": [
    {
     "data": {
      "text/plain": [
       "(250, 10)"
      ]
     },
     "execution_count": 25,
     "metadata": {},
     "output_type": "execute_result"
    }
   ],
   "source": [
    "car_fatality_df.shape"
   ]
  },
  {
   "cell_type": "code",
   "execution_count": 26,
   "id": "05bc8f5f",
   "metadata": {},
   "outputs": [
    {
     "data": {
      "text/plain": [
       "Year                                                 250\n",
       "State                                                250\n",
       "Total Population                                     250\n",
       "Total Fatalities                                     250\n",
       "Fatalities Per 100,000 Population                    250\n",
       "Total Vehicle Miles Traveled (Millions)              250\n",
       "Fatalities Per 100 Million Vehicle Miles Traveled    250\n",
       "Number Alcohol-Impaired Fatalities                   250\n",
       "Percent Alcohol-Impaired Fatalities                  250\n",
       "Alcohol-Impaired Fatalities Per 100 Mill VMT         250\n",
       "dtype: int64"
      ]
     },
     "execution_count": 26,
     "metadata": {},
     "output_type": "execute_result"
    }
   ],
   "source": [
    "car_fatality_df.isnull().count()"
   ]
  },
  {
   "cell_type": "code",
   "execution_count": 27,
   "id": "eefc3084",
   "metadata": {},
   "outputs": [
    {
     "data": {
      "text/plain": [
       "250"
      ]
     },
     "execution_count": 27,
     "metadata": {},
     "output_type": "execute_result"
    }
   ],
   "source": [
    "car_fatality_df.duplicated().count()"
   ]
  },
  {
   "cell_type": "code",
   "execution_count": 28,
   "id": "37e5e944",
   "metadata": {},
   "outputs": [
    {
     "data": {
      "text/plain": [
       "Year                                                   int64\n",
       "State                                                 object\n",
       "Total Population                                       int64\n",
       "Total Fatalities                                       int64\n",
       "Fatalities Per 100,000 Population                    float64\n",
       "Total Vehicle Miles Traveled (Millions)                int64\n",
       "Fatalities Per 100 Million Vehicle Miles Traveled    float64\n",
       "Number Alcohol-Impaired Fatalities                     int64\n",
       "Percent Alcohol-Impaired Fatalities                    int64\n",
       "Alcohol-Impaired Fatalities Per 100 Mill VMT         float64\n",
       "dtype: object"
      ]
     },
     "execution_count": 28,
     "metadata": {},
     "output_type": "execute_result"
    }
   ],
   "source": [
    "car_fatality_df.dtypes"
   ]
  },
  {
   "cell_type": "code",
   "execution_count": 29,
   "id": "405395a6",
   "metadata": {},
   "outputs": [],
   "source": [
    "car_fatality_df.to_csv(\"edaData.csv\")"
   ]
  },
  {
   "cell_type": "code",
   "execution_count": null,
   "id": "a535ea41",
   "metadata": {},
   "outputs": [],
   "source": []
  },
  {
   "cell_type": "code",
   "execution_count": null,
   "id": "7f1416b9",
   "metadata": {},
   "outputs": [],
   "source": [
    "# Assign each states a numeric value.\n",
    "car_fatality_df[\"state_num\"] = car_fatality_df[\"State\"].apply(lambda x: state_num[x])"
   ]
  },
  {
   "cell_type": "code",
   "execution_count": null,
   "id": "779461b3",
   "metadata": {},
   "outputs": [],
   "source": [
    "# Transform the state column into numbers\n",
    "label_encoder = LabelEncoder()\n",
    "car_fatality_df[\"state_le\"] = label_encoder.fit_transform(car_fatality_df[\"state\"])\n",
    "car_fatality_df.head()"
   ]
  },
  {
   "cell_type": "code",
   "execution_count": null,
   "id": "c92d679f",
   "metadata": {},
   "outputs": [],
   "source": [
    "# Load the data\n",
    "\n",
    "# Drop the null columns where all values are null\n",
    "\n",
    "# Drop the null rows"
   ]
  },
  {
   "cell_type": "code",
   "execution_count": null,
   "id": "bc10788d",
   "metadata": {},
   "outputs": [],
   "source": [
    "Split the Data into Training and Testing"
   ]
  },
  {
   "cell_type": "code",
   "execution_count": null,
   "id": "350330ae",
   "metadata": {},
   "outputs": [],
   "source": [
    "# Create our features\n",
    "\n",
    "# Create our target"
   ]
  },
  {
   "cell_type": "code",
   "execution_count": null,
   "id": "90a23b81",
   "metadata": {},
   "outputs": [],
   "source": [
    "X.describe()"
   ]
  },
  {
   "cell_type": "code",
   "execution_count": null,
   "id": "bf47248e",
   "metadata": {},
   "outputs": [],
   "source": [
    "# Check the balance of our target values"
   ]
  },
  {
   "cell_type": "code",
   "execution_count": null,
   "id": "dbe3c5cf",
   "metadata": {},
   "outputs": [],
   "source": [
    "from sklearn.model_selection import train_test_split"
   ]
  },
  {
   "cell_type": "code",
   "execution_count": null,
   "id": "3162a92b",
   "metadata": {},
   "outputs": [],
   "source": [
    "Balanced Random Forest Classifier"
   ]
  },
  {
   "cell_type": "code",
   "execution_count": null,
   "id": "6236b89f",
   "metadata": {},
   "outputs": [],
   "source": [
    "# Resample the training data with the BalancedRandomForestClassifier"
   ]
  },
  {
   "cell_type": "code",
   "execution_count": null,
   "id": "aace25e5",
   "metadata": {},
   "outputs": [],
   "source": [
    "# Calculated the balanced accuracy score"
   ]
  },
  {
   "cell_type": "code",
   "execution_count": null,
   "id": "8d202fd1",
   "metadata": {},
   "outputs": [],
   "source": [
    "# Display the confusion matrix"
   ]
  },
  {
   "cell_type": "code",
   "execution_count": null,
   "id": "a21493b4",
   "metadata": {},
   "outputs": [],
   "source": [
    "# Print the imbalanced classification report"
   ]
  },
  {
   "cell_type": "code",
   "execution_count": null,
   "id": "01cd3546",
   "metadata": {},
   "outputs": [],
   "source": [
    "# List the features sorted in descending order by feature importance"
   ]
  },
  {
   "cell_type": "code",
   "execution_count": null,
   "id": "0ea61874",
   "metadata": {},
   "outputs": [],
   "source": [
    "Easy Ensemble AdaBoost Classifier"
   ]
  },
  {
   "cell_type": "code",
   "execution_count": null,
   "id": "2f9d65c0",
   "metadata": {},
   "outputs": [],
   "source": [
    "# Train the EasyEnsembleClassifier"
   ]
  },
  {
   "cell_type": "code",
   "execution_count": null,
   "id": "30969265",
   "metadata": {},
   "outputs": [],
   "source": [
    "# Calculated the balanced accuracy score"
   ]
  },
  {
   "cell_type": "code",
   "execution_count": null,
   "id": "9c4e8ca3",
   "metadata": {},
   "outputs": [],
   "source": [
    "# Display the confusion matrix"
   ]
  },
  {
   "cell_type": "code",
   "execution_count": null,
   "id": "993c2084",
   "metadata": {},
   "outputs": [],
   "source": [
    "# Print the imbalanced classification report"
   ]
  }
 ],
 "metadata": {
  "kernelspec": {
   "display_name": "Python 3 (ipykernel)",
   "language": "python",
   "name": "python3"
  },
  "language_info": {
   "codemirror_mode": {
    "name": "ipython",
    "version": 3
   },
   "file_extension": ".py",
   "mimetype": "text/x-python",
   "name": "python",
   "nbconvert_exporter": "python",
   "pygments_lexer": "ipython3",
   "version": "3.7.13"
  },
  "vscode": {
   "interpreter": {
    "hash": "58f93290a900e0d030f54b12af7768b64b8c46fcb6802248c4b87a1efe1b4295"
   }
  }
 },
 "nbformat": 4,
 "nbformat_minor": 5
}
